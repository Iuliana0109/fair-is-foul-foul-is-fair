{
  "nbformat": 4,
  "nbformat_minor": 0,
  "metadata": {
    "colab": {
      "provenance": []
    },
    "kernelspec": {
      "name": "python3",
      "display_name": "Python 3"
    },
    "language_info": {
      "name": "python"
    }
  },
  "cells": [
    {
      "cell_type": "markdown",
      "source": [
        "LAB 1"
      ],
      "metadata": {
        "id": "pdh5gwIN4lZP"
      }
    },
    {
      "cell_type": "code",
      "execution_count": 66,
      "metadata": {
        "id": "ShgB7z0g4dac",
        "colab": {
          "base_uri": "https://localhost:8080/"
        },
        "outputId": "1ef10a98-861b-4e24-e0a1-9f40eea5a423"
      },
      "outputs": [
        {
          "output_type": "stream",
          "name": "stdout",
          "text": [
            "['bbdb', 'db', 'bdda', 'db', 'dadca']\n"
          ]
        }
      ],
      "source": [
        "import random\n",
        "\n",
        "class Grammar:\n",
        "    def __init__(self):\n",
        "      #define the non-terminal symbols\n",
        "        self.VN = {'S', 'A', 'B'}\n",
        "      #define the terminal symbols\n",
        "        self.VT = {'a', 'b', 'c', 'd'}\n",
        "      #define the productions\n",
        "        self.P = {\n",
        "            'S': ['bS', 'dA'],\n",
        "            'A': ['aA', 'dB', 'b'],\n",
        "            'B': ['cB', 'a']\n",
        "        }\n",
        "        #define the start symbol\n",
        "        self.start = 'S'\n",
        "\n",
        "    \n",
        "#method to generate n number of strings according to given the rules\n",
        "    def generate_strings(grammar, n=5):\n",
        "        strings = []\n",
        "        for i in range(n):\n",
        "            string = ''\n",
        "            stack = [grammar.start]\n",
        "            while stack:\n",
        "                symbol = stack.pop()\n",
        "                if symbol in grammar.VT:\n",
        "                    string += symbol\n",
        "                elif symbol in grammar.VN:\n",
        "                    productions = grammar.P[symbol]\n",
        "                    production = random.choice(productions)\n",
        "                    for s in reversed(production):\n",
        "                        stack.append(s)\n",
        "            strings.append(string)\n",
        "        return strings\n",
        "\n",
        "#the generation itself of 5 strings\n",
        "g = Grammar()\n",
        "string = g.generate_strings()\n",
        "print(string)"
      ]
    },
    {
      "cell_type": "code",
      "source": [
        "class FiniteAutomaton:\n",
        "    def __init__(self):\n",
        "        self.states = set()\n",
        "        self.alphabet = set()\n",
        "        self.transitions = {}\n",
        "        self.start_state = None\n",
        "        self.final_states = set()\n",
        "\n",
        "def grammar_to_finite_automaton(grammar):\n",
        "    fa = FiniteAutomaton()\n",
        "    fa.states.add('q0')\n",
        "    fa.start_state = 'q0'\n",
        "    for symbol in grammar.VT:\n",
        "        fa.alphabet.add(symbol)\n",
        "    for variable in grammar.VN:\n",
        "        for production in grammar.P[variable]:\n",
        "            source_state = 'q' + str(hash(production))\n",
        "            fa.states.add(source_state)\n",
        "            if variable == grammar.start:\n",
        "                fa.transitions[(fa.start_state, '')] = source_state\n",
        "            for i in range(len(production)):\n",
        "                if production[i] in grammar.VT:\n",
        "                    fa.transitions[(source_state, production[i])] = 'q' + str(hash(production[:i] + '.' + production[i+1:]))\n",
        "            if production[-1] in grammar.VN:\n",
        "                fa.final_states.add(source_state)\n",
        "    return fa\n",
        "\n",
        "def accepts(fa, input_string):\n",
        "    current_state = fa.start_state\n",
        "    for symbol in input_string:\n",
        "        if (current_state, symbol) in fa.transitions:\n",
        "            current_state = fa.transitions[(current_state, symbol)]\n",
        "        else:\n",
        "            return False\n",
        "    return current_state in fa.final_states\n",
        "\n",
        "fa = FiniteAutomaton()\n",
        "grammar_to_finite_automaton(g)\n",
        "string = g.generate_strings()\n",
        "for x in range(5):\n",
        "  print(accepts(fa, string[x]))"
      ],
      "metadata": {
        "colab": {
          "base_uri": "https://localhost:8080/"
        },
        "id": "9MJf8DxhsQqM",
        "outputId": "26a66eae-43a7-4c81-82ae-3791cbc60d46"
      },
      "execution_count": 67,
      "outputs": [
        {
          "output_type": "stream",
          "name": "stdout",
          "text": [
            "False\n",
            "False\n",
            "False\n",
            "False\n",
            "False\n"
          ]
        }
      ]
    }
  ]
}